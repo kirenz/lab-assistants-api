{
    "cells": [
        {
            "cell_type": "markdown",
            "metadata": {},
            "source": [
                "# Assistants API and Files\n",
                "\n",
                "We create an Assistant that can create data visualization based on a .csv file to demonstrate how to upload and download files using OpenAi's Assistants API.\n",
                "\n",
                "# Setup"
            ]
        },
        {
            "cell_type": "code",
            "metadata": {},
            "source": [
                "import openai\n",
                "from openai import OpenAI\n",
                "import os\n",
                "\n",
                "from dotenv import load_dotenv, find_dotenv\n",
                "_ = load_dotenv(find_dotenv())\n",
                "\n",
                "openai.api_key = os.getenv('OPENAI_API_KEY')"
            ],
            "execution_count": null,
            "outputs": []
        },
        {
            "cell_type": "markdown",
            "metadata": {},
            "source": [
                "# Initialize OpenAI client"
            ]
        },
        {
            "cell_type": "code",
            "metadata": {},
            "source": [
                "client = OpenAI()"
            ],
            "execution_count": null,
            "outputs": []
        },
        {
            "cell_type": "markdown",
            "metadata": {},
            "source": [
                "# Create Assistant"
            ]
        },
        {
            "cell_type": "code",
            "metadata": {},
            "source": [
                "assistant = client.beta.assistants.create(\n",
                "    name=\"Data Visualizations\",\n",
                "    instructions=\"You are great at creating beautiful data visualizations. You analyze data present in .csv files, understand relationships between variables, and create data visualizations relevant to those relationships. You also share a brief text summary of the relationships observed.\",\n",
                "    tools=[ {\"type\": \"code_interpreter\"}],\n",
                "    model=\"gpt-4-1106-preview\",\n",
                ")"
            ],
            "execution_count": null,
            "outputs": []
        },
        {
            "cell_type": "markdown",
            "metadata": {},
            "source": [
                "# Create Thread\n"
            ]
        },
        {
            "cell_type": "code",
            "metadata": {},
            "source": [
                "thread = client.beta.threads.create()"
            ],
            "execution_count": null,
            "outputs": []
        },
        {
            "cell_type": "markdown",
            "metadata": {},
            "source": [
                "<!--"
            ]
        },
        {
            "cell_type": "code",
            "metadata": {},
            "source": [
                "thread = client.beta.threads.create(\n",
                "  messages=[\n",
                "    {\n",
                "      \"role\": \"user\",\n",
                "      \"content\": \"Create a data visualization based on the relationship of the variables Miles_per_Gallon and Horsepower in this file. Interpret the findings\",\n",
                "      \"file_ids\": [file.id]\n",
                "    }\n",
                "  ]\n",
                ")"
            ],
            "execution_count": null,
            "outputs": []
        },
        {
            "cell_type": "markdown",
            "metadata": {},
            "source": [
                "-->\n",
                "\n",
                "## How to Obbtain the Thread id"
            ]
        },
        {
            "cell_type": "code",
            "metadata": {},
            "source": [
                "thread"
            ],
            "execution_count": null,
            "outputs": []
        },
        {
            "cell_type": "markdown",
            "metadata": {},
            "source": [
                "- Thread(id='thread_iB6WpSbp6r6j9ayrdHIyyafC', created_at=1699520936, metadata={}, object='thread')\n",
                "\n",
                ""
            ]
        },
        {
            "cell_type": "code",
            "metadata": {},
            "source": [
                "thread_id = thread.id\n",
                "print(f'Thread ID: {thread_id}')"
            ],
            "execution_count": null,
            "outputs": []
        },
        {
            "cell_type": "markdown",
            "metadata": {},
            "source": [
                "- Thread ID: thread_iB6WpSbp6r6j9ayrdHIyyafC\n",
                "\n",
                "\n",
                "<!--\n",
                "\n",
                "# Step 3: Add a Message to a Thread\n",
                "\n",
                "## Create message\n",
                "\n",
                "- A Message contains the user's text, and optionally, any files that the user uploads (no images). "
            ]
        },
        {
            "cell_type": "code",
            "metadata": {},
            "source": [
                "message = client.beta.threads.messages.create(\n",
                "    thread_id=thread.id,\n",
                "    role=\"user\",\n",
                "    content=\"Create a data visualization based on the relationship of the variables Miles_per_Gallon and Horsepower in this file. Interpret the findings of the plot you have created\",\n",
                "    file_ids=[file.id]\n",
                ")"
            ],
            "execution_count": null,
            "outputs": []
        },
        {
            "cell_type": "markdown",
            "metadata": {},
            "source": [
                "## Obtain message id"
            ]
        },
        {
            "cell_type": "code",
            "metadata": {},
            "source": [
                "message_id = message.id  \n",
                "print(f'Message ID: {message_id}')"
            ],
            "execution_count": null,
            "outputs": []
        },
        {
            "cell_type": "markdown",
            "metadata": {},
            "source": [
                "# Annotations\n",
                "\n",
                "- Annotations provide information around how you should annotate the text in the Message:\n",
                "\n",
                "  - `file_citation`: File citations are created by the retrieval tool and define references to a specific quote in a specific file that was uploaded and used by the Assistant to generate the response.\n",
                "\n",
                "  - `file_path`: File path annotations are created by the code_interpreter tool and contain references to the files generated by the tool.\n",
                "\n",
                "\n",
                "## Annotations code example {.smaller}\n"
            ]
        },
        {
            "cell_type": "code",
            "metadata": {},
            "source": [
                "# Retrieve the message object\n",
                "message = client.beta.threads.messages.retrieve(\n",
                "  thread_id=thread_id,\n",
                "  message_id=message_id\n",
                ")\n",
                "\n",
                "# Assuming the 'message' object has a 'content' attribute which is a list,\n",
                "# and that the first item in the list is a MessageContentText object (as in your example)\n",
                "\n",
                "# Extract the message content\n",
                "# Make sure that the 'message.content' actually contains items before accessing\n",
                "if message.content:\n",
                "    message_content = message.content[0].text\n",
                "    annotations = message_content.annotations\n",
                "    citations = []\n",
                "\n",
                "    # Iterate over the annotations and add footnotes\n",
                "    for index, annotation in enumerate(annotations):\n",
                "        # Replace the text with a footnote\n",
                "        message_content.value = message_content.value.replace(annotation.text, f' [{index}]')\n",
                "\n",
                "        # Gather citations based on annotation attributes\n",
                "        # Here you must ensure that the annotation object has these attributes\n",
                "        if hasattr(annotation, 'file_citation') and annotation.file_citation:\n",
                "            file_citation = annotation.file_citation\n",
                "            cited_file = client.files.retrieve(file_citation.file_id)\n",
                "            citations.append(f'[{index}] {file_citation.quote} from {cited_file.filename}')\n",
                "        elif hasattr(annotation, 'file_path') and annotation.file_path:\n",
                "            file_path = annotation.file_path\n",
                "            cited_file = client.files.retrieve(file_path.file_id)\n",
                "            citations.append(f'[{index}] Click <here> to download {cited_file.filename}')\n",
                "            # You would need to implement the file download functionality here\n",
                "\n",
                "    # Add footnotes to the end of the message before displaying to the user\n",
                "    message_content.value += '\\n' + '\\n'.join(citations)\n",
                "    print(message_content.value)"
            ],
            "execution_count": null,
            "outputs": []
        },
        {
            "cell_type": "markdown",
            "metadata": {},
            "source": [
                "- Create a data visualizations based on the relationship of the variables Miles_per_Gallon and Horsepower in this file.\n",
                "\n",
                "-->\n",
                "\n",
                "\n",
                "# Add a Message & File \n",
                "\n",
                "- You can attach a maximum of 20 files per Assistant \n",
                "- They can be at most 512 MB each. \n",
                "- The size of all the files uploaded by an organization should not exceed 100GB.\n",
                "\n",
                "\n",
                "## Create file\n",
                "\n",
                "- Usually, we could simply input the file in a UI\n",
                "- Here, we have to upload it \n",
                "\n",
                "\n"
            ]
        },
        {
            "cell_type": "code",
            "metadata": {},
            "source": [
                "file_response = client.files.create(\n",
                "  file=open(\"cars.csv\", \"rb\"),\n",
                "  purpose='assistants'\n",
                ")"
            ],
            "execution_count": null,
            "outputs": []
        },
        {
            "cell_type": "markdown",
            "metadata": {},
            "source": [
                ""
            ]
        },
        {
            "cell_type": "code",
            "metadata": {},
            "source": [
                "file_id = file_response.id  \n",
                "\n",
                "print(file_id)"
            ],
            "execution_count": null,
            "outputs": []
        },
        {
            "cell_type": "markdown",
            "metadata": {},
            "source": [
                "- file-4la1LvfQKJMgGxsKobJQBWkH\n",
                "\n",
                "\n",
                "## Create message\n",
                "\n",
                "- A Message contains the user's text, and optionally, any files that the user uploads (no images). \n",
                "\n",
                ""
            ]
        },
        {
            "cell_type": "code",
            "metadata": {},
            "source": [
                "message = client.beta.threads.messages.create(\n",
                "    thread_id=thread.id,\n",
                "    role='user',\n",
                "    content=\"Create a data visualization based on the relationship of the variables Miles_per_Gallon and Horsepower in this file. Interpret the findings of the plot you have created\",\n",
                "    file_ids=[file_id]\n",
                ")"
            ],
            "execution_count": null,
            "outputs": []
        },
        {
            "cell_type": "markdown",
            "metadata": {},
            "source": [
                "# Create Run\n",
                "\n",
                "- When you have all the context you need from your user in the Thread, you can run the Thread with an Assistant of your choice.\n",
                "\n",
                ""
            ]
        },
        {
            "cell_type": "code",
            "metadata": {},
            "source": [
                "run = client.beta.threads.runs.create(\n",
                "  thread_id=thread.id,\n",
                "  assistant_id=assistant.id\n",
                ")"
            ],
            "execution_count": null,
            "outputs": []
        },
        {
            "cell_type": "markdown",
            "metadata": {},
            "source": [
                "## Run objects\n",
                "\n",
                "![](../images/run.png)\n",
                "\n",
                "\n",
                "## Run objects explained {.smaller}\n",
                "\n",
                "| STATUS            | DEFINITION                                                                                                                                                                                                                                                                                                                                                                                                                                                                                                                                               |\n",
                "| ----------------- | -------------------------------------------------------------------------------------------------------------------------------------------------------------------------------------------------------------------------------------------------------------------------------------------------------------------------------------------------------------------------------------------------------------------------------------------------------------------------------------------------------------------------------------------------------- |\n",
                "| `queued`          | When Runs are first created or when you complete the `required_action`, they are moved to a queued status. They should almost immediately move to `in_progress`.                                                                                                                                                                                                                                                                                                                                                                                         |\n",
                "| `in_progress`     | While in_progress, the Assistant uses the model and tools to perform steps. You can view progress being made by the Run by examining the [Run Steps](https://platform.openai.com/docs/api-reference/runs/step-object).                                                                                                                                                                                                                                                                                                                                   |\n",
                "| `completed`       | The Run successfully completed! You can now view all Messages the Assistant added to the Thread, and all the steps the Run took. You can also continue the conversation by adding more user Messages to the Thread and creating another Run.                                                                                                                                                                                                                                                                                                             |\n",
                "| `requires_action` | When using the [Function calling](https://platform.openai.com/docs/assistants/tools/function-calling) tool, the Run will move to a `required_action` state once the model determines the names and arguments of the functions to be called. You must then run those functions and [submit the outputs](https://platform.openai.com/docs/api-reference/runs/submitToolOutputs) before the run proceeds. If the outputs are not provided before the `expires_at` timestamp passes (roughly 10 mins past creation), the run will move to an expired status. |\n",
                "| `expired`         | This happens when the function calling outputs were not submitted before `expires_at` and the run expires. Additionally, if the runs take too long to execute and go beyond the time stated in `expires_at`, our systems will expire the run.                                                                                                                                                                                                                                                                                                            |\n",
                "| `cancelling`      | You can attempt to cancel an `in_progress` run using the [Cancel Run](https://platform.openai.com/docs/api-reference/runs/cancelRun) endpoint. Once the attempt to cancel succeeds, status of the Run moves to `cancelled`. Cancellation is attempted but not guaranteed.                                                                                                                                                                                                                                                                                |\n",
                "| `cancelled`       | Run was successfully cancelled.                                                                                                                                                                                                                                                                                                                                                                                                                                                                                                                          |\n",
                "| `failed`          | You can view the reason for the failure by looking at the `last_error` object in the Run. The timestamp for the failure will be recorded under `failed_at`.                                                                                                                                                                                                                                                                                                                                                                                              |\n",
                "\n",
                "\n",
                "\n",
                "\n",
                "- \n",
                "\n",
                "\n",
                "## Inspect status of the Run {.smaller}\n",
                "\n",
                "- You need to wait until the status='completed' before you can retrieve the Messages added by the Assistant. \n",
                "\n",
                "- Let's check the status"
            ]
        },
        {
            "cell_type": "code",
            "metadata": {},
            "source": [
                "run.status"
            ],
            "execution_count": null,
            "outputs": []
        },
        {
            "cell_type": "markdown",
            "metadata": {},
            "source": [
                "- 'queued'\n",
                "\n",
                "## Retrieve current Run\n",
                "\n",
                "- Again, check the current status with `retrieve`"
            ]
        },
        {
            "cell_type": "code",
            "metadata": {},
            "source": [
                "run = client.beta.threads.runs.retrieve(\n",
                "  thread_id=thread.id,\n",
                "  run_id=run.id\n",
                ")"
            ],
            "execution_count": null,
            "outputs": []
        },
        {
            "cell_type": "markdown",
            "metadata": {},
            "source": [
                ""
            ]
        },
        {
            "cell_type": "code",
            "metadata": {},
            "source": [
                "print(run.status)"
            ],
            "execution_count": null,
            "outputs": []
        },
        {
            "cell_type": "markdown",
            "metadata": {},
            "source": [
                "- 'completed'\n",
                "\n",
                "# Retrieve Messages {.smaller}\n",
                "\n",
                "Once the Run completes, you can retrieve the Messages added by the Assistant to the Thread.\n",
                "\n",
                ""
            ]
        },
        {
            "cell_type": "code",
            "metadata": {},
            "source": [
                "messages_cursor = client.beta.threads.messages.list(\n",
                "  thread_id=thread.id\n",
                ")"
            ],
            "execution_count": null,
            "outputs": []
        },
        {
            "cell_type": "markdown",
            "metadata": {},
            "source": [
                "## Inspect all messages {.smaller}"
            ]
        },
        {
            "cell_type": "code",
            "metadata": {},
            "source": [
                "print(messages_cursor)"
            ],
            "execution_count": null,
            "outputs": []
        },
        {
            "cell_type": "markdown",
            "metadata": {},
            "source": [
                "\n",
                "\n",
                "```python\n",
                "SyncCursorPage[ThreadMessage](data=[ThreadMessage(id='msg_mMdjZ6raDxzbYr065ojq9jav', assistant_id='asst_oLnJ4yhowVZrqUecc8OCtNaL', content=[MessageContentImageFile(image_file=ImageFile(file_id='file-98KwkltWZr4n0kZxMUdqIzTM'), type='image_file'), MessageContentText(text=Text(annotations=[], value=\"The scatter plot above displays the relationship between 'Horsepower' and 'Miles per Gallon' (MPG). From the plot, we can observe the following:\\n\\n- There is a general negative correlation between Horsepower and Miles per Gallon. This means that as Horsepower increases, MPG tends to decrease.\\n- This relationship can be attributed to the fact that cars with higher horsepower values are usually more powerful and may require more fuel to sustain that power, resulting in lower fuel efficiency.\\n\\nHowever, it is important to note that other factors not depicted in this plot could also influence the MPG, such as the weight of the car, the type of engine, and aerodynamic design. For more comprehensive insights, it would be beneficial to consider these variables in future analyses.\\n\\nWould you like to perform any further analysis on this dataset or have any other questions?\"), type='text')], created_at=1699521035, file_ids=[], metadata={}, object='thread.message', role='assistant', run_id='run_kctoJoy5qZcNukQK5dKadfMD', thread_id='thread_iB6WpSbp6r6j9ayrdHIyyafC'), ThreadMessage(id='msg_vaS3zpOTi6sDzeXwZWyQjEvT', assistant_id='asst_oLnJ4yhowVZrqUecc8OCtNaL', content=[MessageContentText(text=Text(annotations=[], value=\"The data has been successfully loaded and it contains the following columns: 'Name', 'Miles_per_Gallon', 'Cylinders', 'Displacement', 'Horsepower', 'Weight_in_lbs', 'Acceleration', 'Year', and 'Origin'.\\n\\nNext, I will create a scatter plot to visualize the relationship between 'Miles_per_Gallon' (MPG) and 'Horsepower'. The scatter plot will help us understand if there's a trend or correlation between these two variables. Let's create the plot now.\"), type='text')], created_at=1699521019, file_ids=[], metadata={}, object='thread.message', role='assistant', run_id='run_kctoJoy5qZcNukQK5dKadfMD', thread_id='thread_iB6WpSbp6r6j9ayrdHIyyafC'), ThreadMessage(id='msg_jFgAaY1O0aTLw1bI7eyUuqy0', assistant_id='asst_oLnJ4yhowVZrqUecc8OCtNaL', content=[MessageContentText(text=Text(annotations=[], value=\"First, let's load the .csv file and preview its contents to understand the structure of the data. Then we can analyze the variables Miles_per_Gallon and Horsepower and create a data visualization to interpret their relationship. I will start by loading the data.\"), type='text')], created_at=1699521009, file_ids=[], metadata={}, object='thread.message', role='assistant', run_id='run_kctoJoy5qZcNukQK5dKadfMD', thread_id='thread_iB6WpSbp6r6j9ayrdHIyyafC'), ThreadMessage(id='msg_0WMtoLxPzCXB14wNTIicUkqO', assistant_id=None, content=[MessageContentText(text=Text(annotations=[], value='Create a data visualization based on the relationship of the variables Miles_per_Gallon and Horsepower in this file. Interpret the findings of the plot you have created'), type='text')], created_at=1699521002, file_ids=['file-4la1LvfQKJMgGxsKobJQBWkH'], metadata={}, object='thread.message', role='user', run_id=None, thread_id='thread_iB6WpSbp6r6j9ayrdHIyyafC')], object='list', first_id='msg_mMdjZ6raDxzbYr065ojq9jav', last_id='msg_0WMtoLxPzCXB14wNTIicUkqO', has_more=False)\n",
                "```\n",
                "\n",
                "\n",
                "\n",
                "# Obtain text response\n",
                "\n",
                "## Display response of assistant "
            ]
        },
        {
            "cell_type": "code",
            "metadata": {},
            "source": [
                "# Iterate over the cursor to get all messages\n",
                "messages = [message for message in messages_cursor]\n",
                "\n",
                "# The assistant's response should be the first message in the thread\n",
                "assistant_response = messages[0].content if messages else \"No response yet.\""
            ],
            "execution_count": null,
            "outputs": []
        },
        {
            "cell_type": "markdown",
            "metadata": {},
            "source": [
                "## Output {.smaller}"
            ]
        },
        {
            "cell_type": "code",
            "metadata": {},
            "source": [
                "print(assistant_response)"
            ],
            "execution_count": null,
            "outputs": []
        },
        {
            "cell_type": "markdown",
            "metadata": {},
            "source": [
                "\n",
                "\n",
                "```python\n",
                "\n",
                "[MessageContentImageFile(image_file=ImageFile(file_id='file-98KwkltWZr4n0kZxMUdqIzTM'), type='image_file'), MessageContentText(text=Text(annotations=[], value=\"The scatter plot above displays the relationship between 'Horsepower' and 'Miles per Gallon' (MPG). From the plot, we can observe the following:\\n\\n- There is a general negative correlation between Horsepower and Miles per Gallon. This means that as Horsepower increases, MPG tends to decrease.\\n- This relationship can be attributed to the fact that cars with higher horsepower values are usually more powerful and may require more fuel to sustain that power, resulting in lower fuel efficiency.\\n\\nHowever, it is important to note that other factors not depicted in this plot could also influence the MPG, such as the weight of the car, the type of engine, and aerodynamic design. For more comprehensive insights, it would be beneficial to consider these variables in future analyses.\\n\\nWould you like to perform any further analysis on this dataset or have any other questions?\"), type='text')]\n",
                "```\n",
                "\n",
                "## Extract only text response {.smaller}"
            ]
        },
        {
            "cell_type": "code",
            "metadata": {},
            "source": [
                "assistant_response[1].text.value"
            ],
            "execution_count": null,
            "outputs": []
        },
        {
            "cell_type": "markdown",
            "metadata": {},
            "source": [
                "\n",
                "\n",
                "- \"The scatter plot above displays the relationship between 'Horsepower' and 'Miles per Gallon' (MPG). From the plot, we can observe the following:\\n\\n- There is a general negative correlation between Horsepower and Miles per Gallon. This means that as Horsepower increases, MPG tends to decrease.\\n- This relationship can be attributed to the fact that cars with higher horsepower values are usually more powerful and may require more fuel to sustain that power, resulting in lower fuel efficiency.\\n\\nHowever, it is important to note that other factors not depicted in this plot could also influence the MPG, such as the weight of the car, the type of engine, and aerodynamic design. For more comprehensive insights, it would be beneficial to consider these variables in future analyses.\\n\\nWould you like to perform any further analysis on this dataset or have any other questions?\"\n",
                "\n",
                "\n",
                "# Download images and files \n",
                "\n",
                "- The API also outputs files, such as generating image diagrams, CSVs, and PDFs. \n",
                "\n",
                "- There are two types of files that are generated:\n",
                "  - Images\n",
                "  - Data files (e.g. a csv file with data generated by the Assistant)\n",
                "\n",
                "## Get file content\n",
                "\n",
                "- The file content can then be downloaded by passing the file ID to the Files API\n"
            ]
        },
        {
            "cell_type": "code",
            "metadata": {},
            "source": [
                "response_file_id = assistant_response[0].image_file.file_id"
            ],
            "execution_count": null,
            "outputs": []
        },
        {
            "cell_type": "markdown",
            "metadata": {},
            "source": [
                ""
            ]
        },
        {
            "cell_type": "code",
            "metadata": {},
            "source": [
                "print(response_file_id)"
            ],
            "execution_count": null,
            "outputs": []
        },
        {
            "cell_type": "markdown",
            "metadata": {},
            "source": [
                "- file-98KwkltWZr4n0kZxMUdqIzTM"
            ]
        },
        {
            "cell_type": "code",
            "metadata": {},
            "source": [
                "content = client.files.retrieve_content(response_file_id)"
            ],
            "execution_count": null,
            "outputs": []
        },
        {
            "cell_type": "markdown",
            "metadata": {},
            "source": [
                "## Work in progress 😊\n",
                "\n",
                "tbd\n",
                "\n",
                "\n",
                "<!--"
            ]
        },
        {
            "cell_type": "code",
            "metadata": {},
            "source": [
                "filename = \"output_image.png\"  # Use the correct file extension\n",
                "\n",
                "# Ensure that content is bytes\n",
                "if isinstance(content, str):\n",
                "    # If content is a string, encode it to bytes\n",
                "    content_bytes = content.encode('utf-8')\n",
                "else:\n",
                "    # If content is already bytes, no need to encode\n",
                "    content_bytes = content\n",
                "\n",
                "# Write the content to a file\n",
                "with open(filename, 'wb') as file:\n",
                "    file.write(content_bytes)\n",
                "\n",
                "print(f\"Image saved as {filename}.\")"
            ],
            "execution_count": null,
            "outputs": []
        },
        {
            "cell_type": "code",
            "metadata": {},
            "source": [
                "filename = \"output_image.png\"  # or .jpg, .jpeg, .bmp, etc. depending on the image format\n",
                "\n",
                "# Write the binary content to a file\n",
                "with open(filename, 'wb') as file:\n",
                "    file.write(content)\n",
                "print(f\"Image saved as {filename}.\")\n"
            ],
            "execution_count": null,
            "outputs": []
        },
        {
            "cell_type": "code",
            "metadata": {},
            "source": [
                "filename = \"output_image.png\"  # Adjust the filename and extension as necessary\n",
                "\n",
                "# If 'content' is a string that represents the binary data, we need to convert it to bytes.\n",
                "# We will attempt to do this using the 'latin1' codec which maps directly to the first 256 Unicode characters.\n",
                "# This will effectively create a byte-for-byte identical mapping, which is what we want for binary data.\n",
                "try:\n",
                "    if isinstance(content, str):\n",
                "        # Encode the string to bytes using 'latin1' which is a direct mapping\n",
                "        content_bytes = content.encode('latin-1')\n",
                "    else:\n",
                "        # If 'content' is already in bytes, we don't need to encode it\n",
                "        content_bytes = content\n",
                "\n",
                "    # Write the content to the file\n",
                "    with open(filename, 'wb') as file:\n",
                "        file.write(content_bytes)\n",
                "\n",
                "    print(f\"File saved as {filename}.\")\n",
                "except UnicodeEncodeError as e:\n",
                "    print(f\"Encoding error: {e}\")\n",
                "except Exception as e:\n",
                "    print(f\"An error occurred: {e}\")"
            ],
            "execution_count": null,
            "outputs": []
        },
        {
            "cell_type": "markdown",
            "metadata": {},
            "source": [
                "-->\n",
                "\n",
                "\n",
                "\n",
                "\n",
                "# Input and output logs of Code Interpreter\n",
                "\n",
                "## Run steps {.smaller}\n",
                "\n",
                "- By listing the steps of a Run that called Code Interpreter, you can inspect the code input and outputs logs of Code Interpreter:"
            ]
        },
        {
            "cell_type": "code",
            "metadata": {},
            "source": [
                "run_steps = client.beta.threads.runs.steps.list(\n",
                "  thread_id=thread.id,\n",
                "  run_id=run.id\n",
                ")"
            ],
            "execution_count": null,
            "outputs": []
        },
        {
            "cell_type": "code",
            "metadata": {},
            "source": [
                "print(run_steps)"
            ],
            "execution_count": null,
            "outputs": []
        }
    ],
    "metadata": {
        "kernelspec": {
            "name": "python3",
            "language": "python",
            "display_name": "Python 3 (ipykernel)"
        }
    },
    "nbformat": 4,
    "nbformat_minor": 4
}