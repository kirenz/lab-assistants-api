{
  "cells": [
    {
      "cell_type": "markdown",
      "metadata": {},
      "source": [
        "# Welcome to Building Your First AI Assistant\n"
      ]
    },
    {
      "cell_type": "markdown",
      "metadata": {},
      "source": [
        "## Setup\n",
        "\n",
        "Let's get started!"
      ]
    },
    {
      "cell_type": "code",
      "execution_count": null,
      "metadata": {},
      "outputs": [],
      "source": [
        "import openai\n",
        "from openai import OpenAI\n",
        "import os\n",
        "from dotenv import load_dotenv, find_dotenv\n",
        "\n",
        "# Load the environment variables file\n",
        "_ = load_dotenv(find_dotenv())\n",
        "\n",
        "# Set the API key from the environment variable\n",
        "openai.api_key = os.getenv('OPENAI_API_KEY')"
      ]
    },
    {
      "cell_type": "markdown",
      "metadata": {},
      "source": [
        "## Start Session\n",
        "\n",
        "First, let's create a session with the OpenAI client. This will establish our connection to the API."
      ]
    },
    {
      "cell_type": "code",
      "execution_count": null,
      "metadata": {},
      "outputs": [],
      "source": [
        "client = OpenAI()"
      ]
    },
    {
      "cell_type": "markdown",
      "metadata": {},
      "source": [
        "## Create an Assistant\n",
        "\n",
        "Now, we'll take a look at an example assistant. This assistant will use its capabilities to write and run code that solves math questions. Change the `name` and `instructions`:"
      ]
    },
    {
      "cell_type": "code",
      "execution_count": null,
      "metadata": {},
      "outputs": [],
      "source": [
        "assistant = client.beta.assistants.create(\n",
        "    name=\"Math Tutor\",\n",
        "    instructions=\"You are a personal Math tutor. Write and run code to answer math questions.\",\n",
        "    tools=[{\"type\": \"code_interpreter\"}],\n",
        "    model=\"gpt-4-1106-preview\"\n",
        ")"
      ]
    },
    {
      "cell_type": "markdown",
      "metadata": {},
      "source": [
        "Once this code is executed, an AI Assistant named \"Math Tutor\" will be created and available on the OpenAI platform. The Assistant will have a unique ID, which can be used to integrate it into other applications, such as a Streamlit app. This integration allows you to leverage the Assistant's capabilities in different environments, enabling interactive, real-time user engagement with the AI across various platforms.\n",
        "\n",
        "\n",
        "## Explanation of Code\n",
        "\n",
        "- Importing Libraries and Setting Environment: We import necessary libraries like openai for API access, and os for operating system interactions, particularly for environment variables. dotenv is used to safely load API keys from a .env file, preventing the need to hard-code sensitive information in our script.\n",
        "\n",
        "- Creating an Assistant: We configure and create an assistant named \"Math Tutor\" with specific instructions to act as a math tutor.\n",
        "The code_interpreter tool is included to enable the assistant to execute and return results from code snippets, which is essential for solving mathematical queries. The model used is gpt-4-1106-preview, a specific version of OpenAI's advanced GPT-4 model, optimized for performing tasks like these."
      ]
    }
  ],
  "metadata": {
    "kernelspec": {
      "display_name": "Python 3 (ipykernel)",
      "language": "python",
      "name": "python3"
    }
  },
  "nbformat": 4,
  "nbformat_minor": 4
}
