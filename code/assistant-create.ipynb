{
    "cells": [
        {
            "cell_type": "markdown",
            "metadata": {},
            "source": [
                "# Create an Assistant\n",
                "\n",
                "Assistants API makes it easier to build assistive AI apps that have goals and can call models and tools\n",
                "\n",
                "## What is an Assistant?\n",
                "\n",
                "- Can be configured to respond to users’ messages using several parameters like:\n",
                "  - **Instructions**: how the Assistant and model should behave or respond\n",
                "  - **Tools**: the API supports Code Interpreter and Retrieval that are built and hosted by OpenAI.\n",
                "  - **Functions**: the API allows you to define custom function signatures\n",
                "\n",
                "# Setup"
            ]
        },
        {
            "cell_type": "code",
            "execution_count": null,
            "metadata": {},
            "outputs": [],
            "source": [
                "import openai\n",
                "from openai import OpenAI\n",
                "import os\n",
                "\n",
                "from dotenv import load_dotenv, find_dotenv\n",
                "_ = load_dotenv(find_dotenv())\n",
                "\n",
                "openai.api_key = os.getenv('OPENAI_API_KEY')"
            ]
        },
        {
            "cell_type": "markdown",
            "metadata": {},
            "source": [
                "# Step 0: Start session\n",
                "\n",
                "First, we create a session of a client"
            ]
        },
        {
            "cell_type": "code",
            "execution_count": null,
            "metadata": {},
            "outputs": [],
            "source": [
                "client = OpenAI()"
            ]
        },
        {
            "cell_type": "markdown",
            "metadata": {},
            "source": [
                "# Step 1: Create an Assistant {.smaller}\n"
            ]
        },
        {
            "cell_type": "code",
            "execution_count": null,
            "metadata": {},
            "outputs": [],
            "source": [
                "assistant = client.beta.assistants.create(\n",
                "    name=\"Math Tutor\",\n",
                "    instructions=\"You are a personal Math tutor. Write and run code to answer math questions.\",\n",
                "    tools=[{\"type\": \"code_interpreter\"}],\n",
                "    model=\"gpt-4-1106-preview\"\n",
                ")"
            ]
        }
    ],
    "metadata": {
        "kernelspec": {
            "display_name": "Python 3 (ipykernel)",
            "language": "python",
            "name": "python3"
        }
    },
    "nbformat": 4,
    "nbformat_minor": 4
}
