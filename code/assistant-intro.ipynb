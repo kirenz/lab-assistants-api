{
    "cells": [
        {
            "cell_type": "markdown",
            "metadata": {},
            "source": [
                "# Create an Assistant\n",
                "\n",
                "Assistants API makes it easier to build assistive AI apps that have goals and can call models and tools\n",
                "\n",
                "## What is an Assistant?\n",
                "\n",
                "- Can be configured to respond to users’ messages using several parameters like:\n",
                "  - **Instructions**: how the Assistant and model should behave or respond\n",
                "  - **Tools**: the API supports Code Interpreter and Retrieval that are built and hosted by OpenAI.\n",
                "  - **Functions**: the API allows you to define custom function signatures\n",
                "\n",
                "\n",
                "## Objects\n",
                "\n",
                "![](/images/assistant.png)\n",
                "\n",
                "## What objects represent {.smaller}\n",
                "\n",
                "- **Thread**:\tA conversation session between an Assistant and a user. Threads store Messages.\n",
                "\n",
                "- **Message**: A message created by an Assistant or a user. Messages can include text, images, and other files. Messages stored as a list on the Thread.\n",
                "\n",
                "- **Run**:\tAn invocation of an Assistant on a Thread. The Assistant uses it’s configuration and the Thread’s Messages to perform tasks by calling models and tools. As part of a Run, the Assistant appends Messages to the Thread.\n",
                "\n",
                "- **Run Step**:\tA detailed list of steps the Assistant took as part of a Run. An Assistant can call tools or create Messages during it’s run. Examining Run Steps allows you to introspect how the Assistant is getting to it’s final results.\n",
                "\n",
                "\n",
                "## Demo\n",
                "\n",
                "<iframe width=\"560\" height=\"315\" src=\"https://www.youtube-nocookie.com/embed/U9mJuUkhUzk?si=86XzlkFyUONUtKHw&amp;start=1922\" title=\"YouTube video player\" frameborder=\"0\" allow=\"accelerometer; autoplay; clipboard-write; encrypted-media; gyroscope; picture-in-picture; web-share\" allowfullscreen></iframe>\n",
                "\n",
                "\n",
                "# Setup"
            ]
        },
        {
            "cell_type": "code",
            "metadata": {},
            "source": [
                "import openai\n",
                "from openai import OpenAI\n",
                "import os\n",
                "\n",
                "from dotenv import load_dotenv, find_dotenv\n",
                "_ = load_dotenv(find_dotenv())\n",
                "\n",
                "openai.api_key = os.getenv('OPENAI_API_KEY')"
            ],
            "execution_count": null,
            "outputs": []
        },
        {
            "cell_type": "markdown",
            "metadata": {},
            "source": [
                "# Step 0: Start session\n",
                "\n",
                "First, we create a session of a client"
            ]
        },
        {
            "cell_type": "code",
            "metadata": {},
            "source": [
                "client = OpenAI()"
            ],
            "execution_count": null,
            "outputs": []
        },
        {
            "cell_type": "markdown",
            "metadata": {},
            "source": [
                "# Step 1: Create an Assistant {.smaller}\n"
            ]
        },
        {
            "cell_type": "code",
            "metadata": {},
            "source": [
                "assistant = client.beta.assistants.create(\n",
                "    name=\"Math Tutor\",\n",
                "    instructions=\"You are a personal Math tutor. Write and run code to answer math questions.\",\n",
                "    tools=[{\"type\": \"code_interpreter\"}],\n",
                "    model=\"gpt-4-1106-preview\"\n",
                ")"
            ],
            "execution_count": null,
            "outputs": []
        },
        {
            "cell_type": "markdown",
            "metadata": {},
            "source": [
                "# Step 2: Create a Thread {.smaller}\n",
                "\n",
                "- A Thread represents a conversation. \n",
                "\n",
                "- Pass any user-specific context and files in this thread by creating Messages.\n",
                "\n",
                ""
            ]
        },
        {
            "cell_type": "code",
            "metadata": {},
            "source": [
                "thread = client.beta.threads.create()"
            ],
            "execution_count": null,
            "outputs": []
        },
        {
            "cell_type": "markdown",
            "metadata": {},
            "source": [
                "# Step 3: Add a Message to a Thread\n",
                "\n",
                "## Create message\n",
                "\n",
                "- A Message contains the user's text, and optionally, any files that the user uploads (no images). \n",
                "\n",
                ""
            ]
        },
        {
            "cell_type": "code",
            "metadata": {},
            "source": [
                "message = client.beta.threads.messages.create(\n",
                "    thread_id=thread.id,\n",
                "    role=\"user\",\n",
                "    content=\"I need to solve the equation `3x + 11 = 14`. Can you help me?\"\n",
                ")"
            ],
            "execution_count": null,
            "outputs": []
        },
        {
            "cell_type": "markdown",
            "metadata": {},
            "source": [
                "## Inspect message"
            ]
        },
        {
            "cell_type": "code",
            "metadata": {},
            "source": [
                "message"
            ],
            "execution_count": null,
            "outputs": []
        },
        {
            "cell_type": "markdown",
            "metadata": {},
            "source": [
                "```python\n",
                "ThreadMessage(id='msg_9x1SPRtQLbWqXMVNIXkBZ0tF', assistant_id=None, content=[MessageContentText(text=Text(annotations=[], value='I need to solve the equation `3x + 11 = 14`. Can you help me?'), type='text')], created_at=1699425718, file_ids=[], metadata={}, object='thread.message', role='user', run_id=None, thread_id='thread_5uZgyTMf0t7Im9TPxvAVDmUD')\n",
                "```\n",
                "\n",
                "## Display user message\n",
                "\n",
                "- Show the content of the message\n",
                "\n",
                ""
            ]
        },
        {
            "cell_type": "code",
            "metadata": {},
            "source": [
                "message_content = message.content[0].text\n",
                "message_content.value"
            ],
            "execution_count": null,
            "outputs": []
        },
        {
            "cell_type": "markdown",
            "metadata": {},
            "source": [
                "- 'I need to solve the equation `3x + 11 = 14`. Can you help me?'\n",
                "\n",
                "\n",
                "# Step 4: Run the Assistant {.smaller}\n",
                "\n",
                "- For the Assistant to respond to the user message, you need to create a Run. \n",
                "\n",
                "- This makes the Assistant read the Thread and decide whether to call tools or simply use the model to best answer the user query. \n",
                "\n",
                "- As the run progresses, the assistant appends Messages to the thread with the `role=\"assistant\"`.\n",
                "\n",
                "- You can optionally pass additional instructions to the Assistant while creating the Run\n",
                "\n",
                "## Create Run"
            ]
        },
        {
            "cell_type": "code",
            "metadata": {},
            "source": [
                "run = client.beta.threads.runs.create(\n",
                "  thread_id=thread.id,\n",
                "  assistant_id=assistant.id,\n",
                "  instructions=\"Please address the user as Jane Doe. The user has a premium account.\"\n",
                ")"
            ],
            "execution_count": null,
            "outputs": []
        },
        {
            "cell_type": "markdown",
            "metadata": {},
            "source": [
                "# Step 5: Display the Assistant's Response\n",
                "\n",
                "- This creates a Run in a queued status. \n",
                "\n",
                "- You can periodically retrieve the Run to check on its status to see if it has moved to completed.\n",
                "\n",
                "\n",
                "## Retrieve Run {.smaller}"
            ]
        },
        {
            "cell_type": "code",
            "metadata": {},
            "source": [
                "run = client.beta.threads.runs.retrieve(\n",
                "  thread_id=thread.id,\n",
                "  run_id=run.id\n",
                ")"
            ],
            "execution_count": null,
            "outputs": []
        },
        {
            "cell_type": "markdown",
            "metadata": {},
            "source": [
                ""
            ]
        },
        {
            "cell_type": "code",
            "metadata": {},
            "source": [
                "print(run)"
            ],
            "execution_count": null,
            "outputs": []
        },
        {
            "cell_type": "markdown",
            "metadata": {},
            "source": [
                "\n",
                "\n",
                "```python\n",
                "Run(id='run_EF9AwlwFnOQJ3wPRCIdNGVaS', assistant_id='asst_YhNjYRQT38e4I5N8WsZ7ihz1', cancelled_at=None, completed_at=None, created_at=1699425952, expires_at=1699426552, failed_at=None, file_ids=[], instructions='Please address the user as Jane Doe. The user has a premium account.', last_error=None, metadata={}, model='gpt-4-1106-preview', object='thread.run', required_action=None, started_at=None, status='queued', thread_id='thread_5uZgyTMf0t7Im9TPxvAVDmUD', tools=[ToolAssistantToolsCode(type='code_interpreter')])\n",
                "```\n",
                "\n",
                "## Retrieve Messages {.smaller}\n",
                "\n",
                "Once the Run completes, you can retrieve the Messages added by the Assistant to the Thread."
            ]
        },
        {
            "cell_type": "code",
            "metadata": {},
            "source": [
                "messages_cursor = client.beta.threads.messages.list(\n",
                "  thread_id=thread.id\n",
                ")"
            ],
            "execution_count": null,
            "outputs": []
        },
        {
            "cell_type": "markdown",
            "metadata": {},
            "source": [
                ""
            ]
        },
        {
            "cell_type": "code",
            "metadata": {},
            "source": [
                "messages_cursor"
            ],
            "execution_count": null,
            "outputs": []
        },
        {
            "cell_type": "markdown",
            "metadata": {},
            "source": [
                "\n",
                "\n",
                "```python\n",
                "SyncCursorPage[ThreadMessage](data=[ThreadMessage(id='msg_aFjIRT2SoI0i3zcAVlFsx3Yn', assistant_id='asst_YhNjYRQT38e4I5N8WsZ7ihz1', content=[MessageContentText(text=Text(annotations=[], value='The solution to the equation \\\\(3x + 11 = 14\\\\) is \\\\(x = 1\\\\).'), type='text')], created_at=1699425958, file_ids=[], metadata={}, object='thread.message', role='assistant', run_id='run_EF9AwlwFnOQJ3wPRCIdNGVaS', thread_id='thread_5uZgyTMf0t7Im9TPxvAVDmUD'), ThreadMessage(id='msg_9x1SPRtQLbWqXMVNIXkBZ0tF', assistant_id=None, content=[MessageContentText(text=Text(annotations=[], value='I need to solve the equation `3x + 11 = 14`. Can you help me?'), type='text')], created_at=1699425718, file_ids=[], metadata={}, object='thread.message', role='user', run_id=None, thread_id='thread_5uZgyTMf0t7Im9TPxvAVDmUD')], object='list', first_id='msg_aFjIRT2SoI0i3zcAVlFsx3Yn', last_id='msg_9x1SPRtQLbWqXMVNIXkBZ0tF', has_more=False)\n",
                "```\n",
                "\n",
                "## Only display response of assistant {.smaller}"
            ]
        },
        {
            "cell_type": "code",
            "metadata": {},
            "source": [
                "# Iterate over the cursor to get all messages\n",
                "messages = [message for message in messages_cursor]\n",
                "\n",
                "# The assistant's response should be the first message in the thread\n",
                "assistant_response = messages[0].content if messages else \"No response yet.\"\n",
                "print(assistant_response)"
            ],
            "execution_count": null,
            "outputs": []
        },
        {
            "cell_type": "markdown",
            "metadata": {},
            "source": [
                "\n",
                "\n",
                "```python\n",
                "\n",
                "- [MessageContentText(text=Text(annotations=[], value='Certainly, Jane Doe. The solution to the equation \\\\(3x + 11 = 14\\\\) is \\\\(x = 1\\\\).'), type='text')]\n",
                "```\n",
                "\n",
                "\n",
                "## Extract only text response"
            ]
        },
        {
            "cell_type": "code",
            "metadata": {},
            "source": [
                "assistant_response[0].text.value"
            ],
            "execution_count": null,
            "outputs": []
        }
    ],
    "metadata": {
        "kernelspec": {
            "name": "python3",
            "language": "python",
            "display_name": "Python 3 (ipykernel)"
        }
    },
    "nbformat": 4,
    "nbformat_minor": 4
}