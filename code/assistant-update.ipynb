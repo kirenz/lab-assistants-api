{
  "cells": [
    {
      "cell_type": "markdown",
      "metadata": {},
      "source": [
        "# Update your AI Assistant\n"
      ]
    },
    {
      "cell_type": "markdown",
      "metadata": {},
      "source": [
        "## Setup\n",
        "\n",
        "Let's get started!"
      ]
    },
    {
      "cell_type": "code",
      "execution_count": null,
      "metadata": {},
      "outputs": [],
      "source": [
        "import openai\n",
        "from openai import OpenAI\n",
        "import os\n",
        "from dotenv import load_dotenv, find_dotenv\n",
        "\n",
        "# Load the environment variables\n",
        "_ = load_dotenv(find_dotenv())\n",
        "openai.api_key = os.getenv('OPENAI_API_KEY')\n"
      ]
    },
    {
      "cell_type": "markdown",
      "metadata": {},
      "source": [
        "## Update"
      ]
    },
    {
      "cell_type": "code",
      "execution_count": null,
      "metadata": {},
      "outputs": [],
      "source": [
        "\n",
        "client = OpenAI()\n",
        "\n",
        "# Assistant ID that you want to update\n",
        "assistant_id = 'your-assistant-id'  # Replace with the actual Assistant ID\n",
        "\n",
        "# Updated instructions or any other properties\n",
        "updated_instructions = \"Updated instruction text\"\n",
        "updated_model = \"gpt-4-1106-preview\"  # Assuming you want to update the model to the latest GPT-4\n",
        "\n",
        "# Update the Assistant\n",
        "updated_assistant = client.beta.assistants.update(\n",
        "    assistant_id=assistant_id,\n",
        "    instructions=updated_instructions,\n",
        "    model=updated_model\n",
        "    # You can add more fields here to update other properties as needed\n",
        ")\n",
        "\n",
        "# Print the response to check the updated assistant details\n",
        "print(updated_assistant)\n"
      ]
    },
    {
      "cell_type": "code",
      "execution_count": null,
      "metadata": {},
      "outputs": [],
      "source": []
    },
    {
      "cell_type": "code",
      "execution_count": null,
      "metadata": {},
      "outputs": [],
      "source": []
    },
    {
      "cell_type": "code",
      "execution_count": 20,
      "metadata": {},
      "outputs": [],
      "source": [
        "# Do note change this code\n",
        "\n",
        "assistant = client.beta.assistants.create(\n",
        "    name=HDM_EMAIL,\n",
        "    instructions=INSTRUCTIONS,\n",
        "    tools=[{\"type\": \"code_interpreter\"}],\n",
        "    model=\"gpt-4-1106-preview\"\n",
        ")"
      ]
    },
    {
      "cell_type": "markdown",
      "metadata": {},
      "source": [
        "Once this code is executed, an AI Assistant will be created and available on the OpenAI platform. The Assistant will have a unique ID, which can be used to integrate it into other applications, such as a Streamlit app. This integration allows you to leverage the Assistant's capabilities in different environments, enabling interactive, real-time user engagement with the AI across various platforms.\n",
        "\n",
        "## Get the ID"
      ]
    },
    {
      "cell_type": "markdown",
      "metadata": {},
      "source": [
        "Now you need to retrieve the ID:"
      ]
    },
    {
      "cell_type": "code",
      "execution_count": 21,
      "metadata": {},
      "outputs": [],
      "source": [
        "ASSISTANT_ID = assistant.id"
      ]
    },
    {
      "cell_type": "markdown",
      "metadata": {},
      "source": [
        "Print the name and assitant id:"
      ]
    },
    {
      "cell_type": "code",
      "execution_count": 22,
      "metadata": {},
      "outputs": [
        {
          "name": "stdout",
          "output_type": "stream",
          "text": [
            "XY = 'asst_JqtEPr4bdXEIL0LAL5KBo6vk'\n"
          ]
        }
      ],
      "source": [
        "print(f\"{HDM_EMAIL} = '{ASSISTANT_ID}'\")"
      ]
    },
    {
      "cell_type": "markdown",
      "metadata": {},
      "source": [
        "Now copy the result (the complete print output) and use it in your application (e.g. Streamlit)"
      ]
    },
    {
      "cell_type": "code",
      "execution_count": null,
      "metadata": {},
      "outputs": [],
      "source": []
    }
  ],
  "metadata": {
    "kernelspec": {
      "display_name": "Python 3 (ipykernel)",
      "language": "python",
      "name": "python3"
    },
    "language_info": {
      "codemirror_mode": {
        "name": "ipython",
        "version": 3
      },
      "file_extension": ".py",
      "mimetype": "text/x-python",
      "name": "python",
      "nbconvert_exporter": "python",
      "pygments_lexer": "ipython3",
      "version": "3.11.8"
    }
  },
  "nbformat": 4,
  "nbformat_minor": 4
}
